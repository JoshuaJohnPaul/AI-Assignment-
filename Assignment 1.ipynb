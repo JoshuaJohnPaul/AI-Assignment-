{
 "cells": [
  {
   "cell_type": "code",
   "execution_count": 19,
   "id": "644ba95a",
   "metadata": {},
   "outputs": [],
   "source": [
    "import cv2 as c"
   ]
  },
  {
   "cell_type": "code",
   "execution_count": 22,
   "id": "a1bf088b",
   "metadata": {},
   "outputs": [],
   "source": [
    "img=c.imread(\"A1.jpg\")\n"
   ]
  },
  {
   "cell_type": "code",
   "execution_count": 25,
   "id": "91a999a4",
   "metadata": {},
   "outputs": [],
   "source": [
    "c.imshow(\"IMG\",img)\n",
    "c.waitKey(0)\n",
    "c.destroyAllWindows()"
   ]
  },
  {
   "cell_type": "markdown",
   "id": "23c150f5",
   "metadata": {},
   "source": [
    "# grey image"
   ]
  },
  {
   "cell_type": "code",
   "execution_count": 31,
   "id": "7126b700",
   "metadata": {},
   "outputs": [],
   "source": [
    "grey=c.imread(\"A1.jpg\",0)"
   ]
  },
  {
   "cell_type": "code",
   "execution_count": 33,
   "id": "649d6c5b",
   "metadata": {},
   "outputs": [],
   "source": [
    "c.imshow(\"Grey img\",grey)\n",
    "c.waitKey(0)\n",
    "c.destroyAllWindows()\n"
   ]
  },
  {
   "cell_type": "markdown",
   "id": "52e44256",
   "metadata": {},
   "source": [
    "# image write"
   ]
  },
  {
   "cell_type": "code",
   "execution_count": 34,
   "id": "03b2c24d",
   "metadata": {},
   "outputs": [
    {
     "data": {
      "text/plain": [
       "True"
      ]
     },
     "execution_count": 34,
     "metadata": {},
     "output_type": "execute_result"
    }
   ],
   "source": [
    "c.imwrite(\"C:/Users/aedpu/JOSHUA/readed imgs/normalimage.jpg\",img)"
   ]
  },
  {
   "cell_type": "code",
   "execution_count": 35,
   "id": "69e4c982",
   "metadata": {},
   "outputs": [
    {
     "data": {
      "text/plain": [
       "True"
      ]
     },
     "execution_count": 35,
     "metadata": {},
     "output_type": "execute_result"
    }
   ],
   "source": [
    "c.imwrite(\"C:/Users/aedpu/JOSHUA/readed imgs/greyimage.jpg\",grey)"
   ]
  },
  {
   "cell_type": "markdown",
   "id": "81c99468",
   "metadata": {},
   "source": [
    "# shape"
   ]
  },
  {
   "cell_type": "code",
   "execution_count": 37,
   "id": "861e3104",
   "metadata": {},
   "outputs": [],
   "source": [
    "shape=img.shape"
   ]
  },
  {
   "cell_type": "code",
   "execution_count": 38,
   "id": "c7e5400f",
   "metadata": {},
   "outputs": [
    {
     "name": "stdout",
     "output_type": "stream",
     "text": [
      "(1600, 2560, 3)\n"
     ]
    }
   ],
   "source": [
    "print(shape)"
   ]
  },
  {
   "cell_type": "code",
   "execution_count": 39,
   "id": "ae3b9abe",
   "metadata": {},
   "outputs": [
    {
     "name": "stdout",
     "output_type": "stream",
     "text": [
      "12288000\n"
     ]
    }
   ],
   "source": [
    "size=img.size\n",
    "print(size)"
   ]
  },
  {
   "cell_type": "markdown",
   "id": "b56bda22",
   "metadata": {},
   "source": [
    "# Splitting"
   ]
  },
  {
   "cell_type": "code",
   "execution_count": 79,
   "id": "f0670a09",
   "metadata": {},
   "outputs": [
    {
     "data": {
      "text/plain": [
       "True"
      ]
     },
     "execution_count": 79,
     "metadata": {},
     "output_type": "execute_result"
    }
   ],
   "source": [
    "b,g,r=c.split(img)\n",
    "c.imshow(\"b\",b)\n",
    "c.waitKey(0)\n",
    "\n",
    "c.imshow(\"g\",g)\n",
    "c.waitKey(0)\n",
    "\n",
    "c.imshow(\"r\",r)\n",
    "c.waitKey(0)\n",
    "c.imwrite(\"C:/Users/aedpu/JOSHUA/readed imgs/b.jpg\",b)\n",
    "c.imwrite(\"C:/Users/aedpu/JOSHUA/readed imgs/g.jpg\",g)\n",
    "c.imwrite(\"C:/Users/aedpu/JOSHUA/readed imgs/r.jpg\",r)\n",
    "\n"
   ]
  },
  {
   "cell_type": "markdown",
   "id": "d75d61f1",
   "metadata": {},
   "source": [
    "# RESIZING"
   ]
  },
  {
   "cell_type": "code",
   "execution_count": 67,
   "id": "bb48ccc4",
   "metadata": {},
   "outputs": [],
   "source": [
    "resize_img=c.resize(img,None,fx=0.8,fy=0.8,interpolation=c.INTER_LINEAR)"
   ]
  },
  {
   "cell_type": "code",
   "execution_count": 68,
   "id": "5d1884f8",
   "metadata": {},
   "outputs": [
    {
     "name": "stdout",
     "output_type": "stream",
     "text": [
      "(1280, 2048, 3)\n"
     ]
    }
   ],
   "source": [
    "print(resize_img.shape)"
   ]
  },
  {
   "cell_type": "code",
   "execution_count": 69,
   "id": "2bd4b5fa",
   "metadata": {},
   "outputs": [],
   "source": [
    "c.imshow(\"RESIZE\",resize_img)\n",
    "c.waitKey(0)\n",
    "c.destroyAllWindows()"
   ]
  },
  {
   "cell_type": "code",
   "execution_count": 70,
   "id": "618de2b2",
   "metadata": {},
   "outputs": [
    {
     "data": {
      "text/plain": [
       "True"
      ]
     },
     "execution_count": 70,
     "metadata": {},
     "output_type": "execute_result"
    }
   ],
   "source": [
    "c.imwrite(\"C:/Users/aedpu/JOSHUA/readed imgs/resizeimg.jpg\",resize_img)"
   ]
  },
  {
   "cell_type": "markdown",
   "id": "a02a4ad3",
   "metadata": {},
   "source": [
    "# ROI"
   ]
  },
  {
   "cell_type": "code",
   "execution_count": 55,
   "id": "9fb6334e",
   "metadata": {},
   "outputs": [],
   "source": [
    "\n",
    "\n",
    "roi=img[0:100,0:100]\n",
    "c.imshow(\"ROI\",roi)\n",
    "c.waitKey(0)\n",
    "c.destroyAllWindows()\n",
    "\n",
    "\n",
    "\n",
    "\n",
    "\n"
   ]
  },
  {
   "cell_type": "code",
   "execution_count": 56,
   "id": "6334835b",
   "metadata": {},
   "outputs": [
    {
     "data": {
      "text/plain": [
       "True"
      ]
     },
     "execution_count": 56,
     "metadata": {},
     "output_type": "execute_result"
    }
   ],
   "source": [
    "c.imwrite(\"C:/Users/aedpu/JOSHUA/readed imgs/ROI.jpg\",roi)"
   ]
  },
  {
   "cell_type": "markdown",
   "id": "d687b7a6",
   "metadata": {},
   "source": [
    "# merging"
   ]
  },
  {
   "cell_type": "code",
   "execution_count": 53,
   "id": "f8f5c404",
   "metadata": {},
   "outputs": [
    {
     "data": {
      "text/plain": [
       "-1"
      ]
     },
     "execution_count": 53,
     "metadata": {},
     "output_type": "execute_result"
    }
   ],
   "source": [
    "merge=c.merge((r,g,b))\n",
    "c.imshow(\"Merge\",merge)\n",
    "c.waitKey(0)"
   ]
  },
  {
   "cell_type": "code",
   "execution_count": 54,
   "id": "cf7bc1f3",
   "metadata": {},
   "outputs": [
    {
     "data": {
      "text/plain": [
       "True"
      ]
     },
     "execution_count": 54,
     "metadata": {},
     "output_type": "execute_result"
    }
   ],
   "source": [
    "c.imwrite(\"C:/Users/aedpu/JOSHUA/readed imgs/merge.jpg\",merge)"
   ]
  },
  {
   "cell_type": "markdown",
   "id": "46fc4090",
   "metadata": {},
   "source": [
    "# image Blur"
   ]
  },
  {
   "cell_type": "code",
   "execution_count": 62,
   "id": "94cd6539",
   "metadata": {},
   "outputs": [
    {
     "data": {
      "text/plain": [
       "-1"
      ]
     },
     "execution_count": 62,
     "metadata": {},
     "output_type": "execute_result"
    }
   ],
   "source": [
    "avg=c.blur(img,(10,10))\n",
    "c.imshow(\"Blur img\",avg)\n",
    "c.waitKey(0)"
   ]
  },
  {
   "cell_type": "code",
   "execution_count": 63,
   "id": "95e06b8a",
   "metadata": {},
   "outputs": [
    {
     "data": {
      "text/plain": [
       "True"
      ]
     },
     "execution_count": 63,
     "metadata": {},
     "output_type": "execute_result"
    }
   ],
   "source": [
    "c.imwrite(\"C:/Users/aedpu/JOSHUA/readed imgs/blur.jpg\",avg)"
   ]
  },
  {
   "cell_type": "markdown",
   "id": "d02bb9f2",
   "metadata": {},
   "source": [
    "# Gaussian blur"
   ]
  },
  {
   "cell_type": "code",
   "execution_count": 65,
   "id": "34b60785",
   "metadata": {},
   "outputs": [
    {
     "data": {
      "text/plain": [
       "-1"
      ]
     },
     "execution_count": 65,
     "metadata": {},
     "output_type": "execute_result"
    }
   ],
   "source": [
    "gauss=c.blur(img,(10,10),20)\n",
    "c.imshow(\"gaussian_img\",gauss)\n",
    "c.waitKey(0)"
   ]
  },
  {
   "cell_type": "code",
   "execution_count": 66,
   "id": "c0291f3c",
   "metadata": {},
   "outputs": [
    {
     "data": {
      "text/plain": [
       "True"
      ]
     },
     "execution_count": 66,
     "metadata": {},
     "output_type": "execute_result"
    }
   ],
   "source": [
    "c.imwrite(\"C:/Users/aedpu/JOSHUA/readed imgs/gaussian.jpg\",gauss)"
   ]
  },
  {
   "cell_type": "markdown",
   "id": "d0a515f7",
   "metadata": {},
   "source": [
    "# Rotation"
   ]
  },
  {
   "cell_type": "code",
   "execution_count": 73,
   "id": "7fae7ece",
   "metadata": {},
   "outputs": [
    {
     "name": "stdout",
     "output_type": "stream",
     "text": [
      "1600\n",
      "2560\n",
      "(800.0, 1280.0)\n"
     ]
    }
   ],
   "source": [
    "height,width=img.shape[:2]\n",
    "print(height)\n",
    "print(width)\n",
    "center=height/2,width/2;\n",
    "print(center)"
   ]
  },
  {
   "cell_type": "code",
   "execution_count": 74,
   "id": "f6dcfb14",
   "metadata": {},
   "outputs": [
    {
     "name": "stdout",
     "output_type": "stream",
     "text": [
      "[[ 3.061617e-17  5.000000e-01  1.600000e+02]\n",
      " [-5.000000e-01  3.061617e-17  1.680000e+03]]\n"
     ]
    }
   ],
   "source": [
    "row_matrix=c.getRotationMatrix2D(center=center,angle=90,scale=0.5)\n",
    "print(row_matrix)"
   ]
  },
  {
   "cell_type": "code",
   "execution_count": 81,
   "id": "f2a7c308",
   "metadata": {},
   "outputs": [
    {
     "data": {
      "text/plain": [
       "-1"
      ]
     },
     "execution_count": 81,
     "metadata": {},
     "output_type": "execute_result"
    }
   ],
   "source": [
    "rotate_image=c.warpAffine(src=img,M=row_matrix,dsize=(width,height))\n",
    "c.imshow(\"ROTAED IMAGE\",rotate_image)\n",
    "c.waitKey(0)\n"
   ]
  },
  {
   "cell_type": "code",
   "execution_count": 78,
   "id": "d07fc63a",
   "metadata": {},
   "outputs": [
    {
     "data": {
      "text/plain": [
       "True"
      ]
     },
     "execution_count": 78,
     "metadata": {},
     "output_type": "execute_result"
    }
   ],
   "source": [
    "c.imwrite(\"C:/Users/aedpu/JOSHUA/readed imgs/rotate.jpg\",rotate_image)"
   ]
  },
  {
   "cell_type": "code",
   "execution_count": null,
   "id": "72d44ea4",
   "metadata": {},
   "outputs": [],
   "source": []
  }
 ],
 "metadata": {
  "kernelspec": {
   "display_name": "Python 3 (ipykernel)",
   "language": "python",
   "name": "python3"
  },
  "language_info": {
   "codemirror_mode": {
    "name": "ipython",
    "version": 3
   },
   "file_extension": ".py",
   "mimetype": "text/x-python",
   "name": "python",
   "nbconvert_exporter": "python",
   "pygments_lexer": "ipython3",
   "version": "3.9.13"
  }
 },
 "nbformat": 4,
 "nbformat_minor": 5
}
